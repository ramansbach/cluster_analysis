{
 "cells": [
  {
   "cell_type": "code",
   "execution_count": 1,
   "metadata": {
    "collapsed": true
   },
   "outputs": [],
   "source": [
    "%timeit?"
   ]
  },
  {
   "cell_type": "code",
   "execution_count": 2,
   "metadata": {
    "collapsed": true
   },
   "outputs": [],
   "source": [
    "%prun?"
   ]
  },
  {
   "cell_type": "code",
   "execution_count": 1,
   "metadata": {
    "collapsed": true
   },
   "outputs": [],
   "source": [
    "from __future__ import absolute_import, division, print_function\n",
    "import os.path as op\n",
    "import numpy as np\n",
    "import numpy.testing as npt\n",
    "\n",
    "import gsd.hoomd\n",
    "import sys\n",
    "import clustering as cl"
   ]
  },
  {
   "cell_type": "code",
   "execution_count": 2,
   "metadata": {
    "collapsed": true
   },
   "outputs": [],
   "source": [
    "molA1 = np.array([0.,0.,0.,1.,1.,0.,2.,2.,0.,3.,3.,0.,4.,4.,0.])\n",
    "molB1 = np.array([0.,-2.,0.,1.,-3.,0.,2.,-4.,0.,3.,-5.,0.,4.,-6.,0.])\n",
    "molA2 = np.array([0.,1.,0.,1.,1.,0.,2.,1.,0.,3.,1.,0.,4.,1.,0.])\n",
    "molB2 = np.array([0.,0.,0.,1.,0.,0.,2.,0.,0.,3.,0.,0.,4.,0.,0.])\n",
    "\n",
    "apos1 = np.array([-1.,0.,0.,-1.,-0.5,0.,\n",
    "                      -1.,-1.,0.,0.,-1.,0.,0.,-0.5,0.,0.,0.,0.])\n",
    "apos2 = np.array([1.5,0.,0.,1.5,-0.5,0.,\n",
    "                      1.5,-1.,0.,0.5,-1.,0.,0.5,-0.5,0.,0.5,0.,0.])"
   ]
  },
  {
   "cell_type": "code",
   "execution_count": 3,
   "metadata": {
    "collapsed": false
   },
   "outputs": [
    {
     "name": "stdout",
     "output_type": "stream",
     "text": [
      "10000 loops, best of 3: 29.8 µs per loop\n"
     ]
    }
   ],
   "source": [
    "%timeit -n 10000  cl.conOptDistance(molA1,molB1)"
   ]
  },
  {
   "cell_type": "code",
   "execution_count": 4,
   "metadata": {
    "collapsed": false
   },
   "outputs": [
    {
     "name": "stdout",
     "output_type": "stream",
     "text": [
      "10000 loops, best of 3: 48.6 µs per loop\n"
     ]
    }
   ],
   "source": [
    "%timeit -n 10000 cl.alignedDistance(apos1,apos2)"
   ]
  },
  {
   "cell_type": "code",
   "execution_count": 5,
   "metadata": {
    "collapsed": false
   },
   "outputs": [
    {
     "name": "stdout",
     "output_type": "stream",
     "text": [
      "10000 loops, best of 3: 2.3 µs per loop\n"
     ]
    }
   ],
   "source": [
    "%timeit -n 10000 cl.conOptDistanceC(molA1,molB1)"
   ]
  },
  {
   "cell_type": "code",
   "execution_count": 6,
   "metadata": {
    "collapsed": false
   },
   "outputs": [
    {
     "name": "stdout",
     "output_type": "stream",
     "text": [
      "10000 loops, best of 3: 5.32 µs per loop\n"
     ]
    }
   ],
   "source": [
    "%timeit -n 10000 cl.alignedDistanceC(apos1,apos2)"
   ]
  },
  {
   "cell_type": "code",
   "execution_count": 3,
   "metadata": {
    "collapsed": false
   },
   "outputs": [],
   "source": [
    "fname = '/home/rachael/Analysis_and_run_code/analysis/cluster_analysis/clustering/data/mols8.gsd'\n",
    "traj = gsd.hoomd.open(fname)\n",
    "    \n",
    "ats = 17\n",
    "cutoff= 1.1*1.1\n",
    "molno = 8\n",
    "cldict = {'contact':cutoff}\n",
    "syst = cl.SnapSystem(traj,ats,molno,cldict)\n"
   ]
  },
  {
   "cell_type": "code",
   "execution_count": 4,
   "metadata": {
    "collapsed": false
   },
   "outputs": [
    {
     "name": "stdout",
     "output_type": "stream",
     "text": [
      "10 loops, best of 3: 3.04 s per loop\n"
     ]
    }
   ],
   "source": [
    "%timeit -n 10 syst.get_clusters_serial('contact')"
   ]
  },
  {
   "cell_type": "code",
   "execution_count": null,
   "metadata": {
    "collapsed": true
   },
   "outputs": [],
   "source": []
  }
 ],
 "metadata": {
  "kernelspec": {
   "display_name": "Python 2",
   "language": "python",
   "name": "python2"
  },
  "language_info": {
   "codemirror_mode": {
    "name": "ipython",
    "version": 2
   },
   "file_extension": ".py",
   "mimetype": "text/x-python",
   "name": "python",
   "nbconvert_exporter": "python",
   "pygments_lexer": "ipython2",
   "version": "2.7.13"
  }
 },
 "nbformat": 4,
 "nbformat_minor": 0
}
